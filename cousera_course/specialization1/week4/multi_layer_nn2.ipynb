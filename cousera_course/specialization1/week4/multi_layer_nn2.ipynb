{
 "cells": [
  {
   "cell_type": "code",
   "execution_count": 16,
   "id": "264d1f11",
   "metadata": {},
   "outputs": [
    {
     "name": "stdout",
     "output_type": "stream",
     "text": [
      "The autoreload extension is already loaded. To reload it, use:\n",
      "  %reload_ext autoreload\n"
     ]
    }
   ],
   "source": [
    "import time\n",
    "import numpy as np\n",
    "import h5py\n",
    "import matplotlib.pyplot as plt\n",
    "import scipy\n",
    "from PIL import Image\n",
    "from scipy import ndimage\n",
    "from dnn_app_utils_v3 import *\n",
    "from public_tests import *\n",
    "\n",
    "%matplotlib inline\n",
    "plt.rcParams['figure.figsize'] = (5.0, 4.0) # set default size of plots\n",
    "plt.rcParams['image.interpolation'] = 'nearest'\n",
    "plt.rcParams['image.cmap'] = 'gray'\n",
    "\n",
    "%load_ext autoreload\n",
    "%autoreload 2\n",
    "\n",
    "np.random.seed(1)"
   ]
  },
  {
   "cell_type": "code",
   "execution_count": 2,
   "id": "6fbb7078",
   "metadata": {},
   "outputs": [],
   "source": [
    "train_x_orig, train_y, test_x_orig, test_y, classes = load_data()"
   ]
  },
  {
   "cell_type": "code",
   "execution_count": 3,
   "id": "547b80e5",
   "metadata": {},
   "outputs": [
    {
     "name": "stdout",
     "output_type": "stream",
     "text": [
      "non-cat\n"
     ]
    },
    {
     "data": {
      "image/png": "[encoded data removed]",
      "text/plain": [
       "<Figure size 500x400 with 1 Axes>"
      ]
     },
     "metadata": {},
     "output_type": "display_data"
    }
   ],
   "source": [
    "index = 20\n",
    "\n",
    "plt.imshow(train_x_orig[index])\n",
    "\n",
    "print(classes[train_y[0,index]].decode(\"utf-8\"))"
   ]
  },
  {
   "cell_type": "code",
   "execution_count": 4,
   "id": "4256264a",
   "metadata": {},
   "outputs": [
    {
     "data": {
      "text/plain": [
       "(12288, 209)"
      ]
     },
     "execution_count": 4,
     "metadata": {},
     "output_type": "execute_result"
    }
   ],
   "source": [
    "#flatten\n",
    "\n",
    "train_x_flatten = train_x_orig.reshape(train_x_orig.shape[0],-1).T\n",
    "test_x_flatten = test_x_orig.reshape(test_x_orig.shape[0],-1).T\n",
    "train_x_flatten.shape"
   ]
  },
  {
   "cell_type": "code",
   "execution_count": 5,
   "id": "1de799ab",
   "metadata": {},
   "outputs": [
    {
     "name": "stdout",
     "output_type": "stream",
     "text": [
      "(12288, 209)\n",
      "(12288, 50)\n"
     ]
    }
   ],
   "source": [
    "train_x = train_x_flatten/255\n",
    "test_x = test_x_flatten/255\n",
    "\n",
    "print(train_x.shape)\n",
    "print(test_x.shape)"
   ]
  },
  {
   "cell_type": "code",
   "execution_count": 6,
   "id": "655c32d8",
   "metadata": {},
   "outputs": [],
   "source": [
    "#2 layer neural network\n",
    "\n",
    "n_x = 12288     # num_px * num_px * 3\n",
    "n_h = 7\n",
    "n_y = 1\n",
    "layers_dims = (n_x, n_h, n_y)\n",
    "learning_rate = 0.0075"
   ]
  },
  {
   "cell_type": "code",
   "execution_count": 12,
   "id": "a8ebc887",
   "metadata": {},
   "outputs": [],
   "source": [
    "def two_layer_model(X, Y, layers_dims, learning_rate = 0.0075, num_iterations = 3000, print_cost = False):\n",
    "    \n",
    "    n_x, n_h, n_y = layers_dims\n",
    "    np.random.seed(1)\n",
    "    grads = {}\n",
    "    costs = []\n",
    "    m = X.shape[1]\n",
    "    parameters = initialize_parameters(n_x, n_h, n_y)\n",
    "    \n",
    "    W1= parameters[\"W1\"]\n",
    "    b1= parameters[\"b1\"]\n",
    "    W2= parameters[\"W2\"]\n",
    "    b2= parameters[\"b2\"]\n",
    "    \n",
    "    for i in range(num_iterations):\n",
    "    \n",
    "        A1, cache1 = linear_activation_forward(X, W1, b1, \"relu\")\n",
    "        A2, cache2 = linear_activation_forward(A1, W2, b2, \"sigmoid\")\n",
    "    \n",
    "        cost = compute_cost(A2, Y)\n",
    "        \n",
    "        if i%100 == 0:\n",
    "            costs.append(cost)\n",
    "            \n",
    "            if print_cost:\n",
    "                print(f'cost after {i} iterations = {cost}')\n",
    "\n",
    "    \n",
    "        dAL = -(np.divide(Y,A2) - np.divide(1-Y, 1-A2))\n",
    "        dA1, dW2, db2 = linear_activation_backward(dAL, cache2, \"sigmoid\")\n",
    "        dA0, dW1, db1 = linear_activation_backward(dA1, cache1, \"relu\")\n",
    "        \n",
    "        W1-=learning_rate*dW1\n",
    "        b1-=learning_rate*db1\n",
    "        W2-=learning_rate*dW2\n",
    "        b2-=learning_rate*db2\n",
    "        \n",
    "        parameters = {\n",
    "            \"W1\":W1,\n",
    "            \"b1\":b1,\n",
    "            \"W2\":W2,\n",
    "            \"b2\":b2\n",
    "        }\n",
    "        \n",
    "    return parameters, costs\n",
    "        \n",
    "def plot_costs(costs, learning_rate=0.0075):\n",
    "    plt.plot(np.squeeze(costs))\n",
    "    plt.ylabel('cost')\n",
    "    plt.xlabel('iterations (per hundreds)')\n",
    "    plt.title(\"Learning rate =\" + str(learning_rate))\n",
    "    plt.show()    \n",
    "    "
   ]
  },
  {
   "cell_type": "code",
   "execution_count": 17,
   "id": "27b3d6df",
   "metadata": {},
   "outputs": [
    {
     "name": "stdout",
     "output_type": "stream",
     "text": [
      "Cost after first iteration: 0.693049735659989\n"
     ]
    },
    {
     "ename": "NameError",
     "evalue": "name 'two_layer_model_test' is not defined",
     "output_type": "error",
     "traceback": [
      "\u001b[0;31m---------------------------------------------------------------------------\u001b[0m",
      "\u001b[0;31mNameError\u001b[0m                                 Traceback (most recent call last)",
      "Cell \u001b[0;32mIn[17], line 5\u001b[0m\n\u001b[1;32m      1\u001b[0m parameters, costs \u001b[38;5;241m=\u001b[39m two_layer_model(train_x, train_y, layers_dims \u001b[38;5;241m=\u001b[39m (n_x, n_h, n_y), num_iterations \u001b[38;5;241m=\u001b[39m \u001b[38;5;241m2\u001b[39m, print_cost\u001b[38;5;241m=\u001b[39m\u001b[38;5;28;01mFalse\u001b[39;00m)\n\u001b[1;32m      3\u001b[0m \u001b[38;5;28mprint\u001b[39m(\u001b[38;5;124m\"\u001b[39m\u001b[38;5;124mCost after first iteration: \u001b[39m\u001b[38;5;124m\"\u001b[39m \u001b[38;5;241m+\u001b[39m \u001b[38;5;28mstr\u001b[39m(costs[\u001b[38;5;241m0\u001b[39m]))\n\u001b[0;32m----> 5\u001b[0m \u001b[43mtwo_layer_model_test\u001b[49m(two_layer_model)\n",
      "\u001b[0;31mNameError\u001b[0m: name 'two_layer_model_test' is not defined"
     ]
    }
   ],
   "source": [
    "parameters, costs = two_layer_model(train_x, train_y, layers_dims = (n_x, n_h, n_y), num_iterations = 2, print_cost=False)\n",
    "\n",
    "print(\"Cost after first iteration: \" + str(costs[0]))\n",
    "\n",
    "two_layer_model_test(two_layer_model)"
   ]
  },
  {
   "cell_type": "code",
   "execution_count": 18,
   "id": "9bc9b1e3",
   "metadata": {},
   "outputs": [
    {
     "name": "stdout",
     "output_type": "stream",
     "text": [
      "cost after 0 iterations = 0.693049735659989\n",
      "cost after 100 iterations = 0.6464320953428849\n",
      "cost after 200 iterations = 0.6325140647912678\n",
      "cost after 300 iterations = 0.6015024920354665\n",
      "cost after 400 iterations = 0.5601966311605748\n",
      "cost after 500 iterations = 0.5158304772764731\n",
      "cost after 600 iterations = 0.47549013139433266\n",
      "cost after 700 iterations = 0.43391631512257495\n",
      "cost after 800 iterations = 0.40079775362038833\n",
      "cost after 900 iterations = 0.3580705011323798\n",
      "cost after 1000 iterations = 0.33942815383664127\n",
      "cost after 1100 iterations = 0.30527536361962665\n",
      "cost after 1200 iterations = 0.2749137728213017\n",
      "cost after 1300 iterations = 0.24681768210614843\n",
      "cost after 1400 iterations = 0.1985073503746611\n",
      "cost after 1500 iterations = 0.17448318112556652\n",
      "cost after 1600 iterations = 0.17080762978097747\n",
      "cost after 1700 iterations = 0.11306524562164694\n",
      "cost after 1800 iterations = 0.09629426845937154\n",
      "cost after 1900 iterations = 0.08342617959726872\n",
      "cost after 2000 iterations = 0.07439078704319087\n",
      "cost after 2100 iterations = 0.06630748132267937\n",
      "cost after 2200 iterations = 0.059193295010381765\n",
      "cost after 2300 iterations = 0.05336140348560562\n",
      "cost after 2400 iterations = 0.04855478562877021\n"
     ]
    },
    {
     "data": {
      "image/png": "[encoded data removed]",
      "text/plain": [
       "<Figure size 500x400 with 1 Axes>"
      ]
     },
     "metadata": {},
     "output_type": "display_data"
    }
   ],
   "source": [
    "parameters, costs = two_layer_model(train_x, train_y, layers_dims = (n_x, n_h, n_y), num_iterations = 2500, print_cost=True)\n",
    "plot_costs(costs, learning_rate)"
   ]
  },
  {
   "cell_type": "code",
   "execution_count": 19,
   "id": "50513a58",
   "metadata": {},
   "outputs": [
    {
     "name": "stdout",
     "output_type": "stream",
     "text": [
      "Accuracy: 0.9999999999999998\n"
     ]
    }
   ],
   "source": [
    "predictions_train = predict(train_x, train_y, parameters)"
   ]
  },
  {
   "cell_type": "code",
   "execution_count": 20,
   "id": "ded85f8e",
   "metadata": {},
   "outputs": [
    {
     "name": "stdout",
     "output_type": "stream",
     "text": [
      "Accuracy: 0.72\n"
     ]
    }
   ],
   "source": [
    "predictions_test = predict(test_x, test_y, parameters)"
   ]
  },
  {
   "cell_type": "code",
   "execution_count": null,
   "id": "b5666362",
   "metadata": {},
   "outputs": [],
   "source": [
    "### CONSTANTS ###\n",
    "layers_dims = [12288, 20, 7, 5, 1] #  4-layer model"
   ]
  },
  {
   "cell_type": "code",
   "execution_count": 29,
   "id": "4ea0ff92",
   "metadata": {},
   "outputs": [],
   "source": [
    "def L_layer_model(X, Y, layers_dims, learning_rate = 0.0075, num_iterations = 3000, print_cost=False):\n",
    "    \n",
    "    np.random.seed(1)\n",
    "    costs = []\n",
    "    \n",
    "    parameters = initialize_parameters_deep(layers_dims)\n",
    "    \n",
    "    for i in range(num_iterations):\n",
    "        \n",
    "        AL, caches = L_model_forward(X, parameters)\n",
    "        \n",
    "        cost = compute_cost(AL, Y)\n",
    "        \n",
    "        grads = L_model_backward(AL, Y, caches)\n",
    "        \n",
    "        parameters = update_parameters(parameters, grads, learning_rate)\n",
    "        \n",
    "        if i%100 == 0:\n",
    "            costs.append(cost)\n",
    "            if print_cost:\n",
    "                print(f'cost after {i} iterations = {cost}')\n",
    "                \n",
    "    return parameters, costs"
   ]
  },
  {
   "cell_type": "code",
   "execution_count": 25,
   "id": "d1ce6d6e",
   "metadata": {},
   "outputs": [
    {
     "name": "stdout",
     "output_type": "stream",
     "text": [
      "0\n",
      "Cost after first iteration: 0.6950464961800915\n"
     ]
    },
    {
     "ename": "NameError",
     "evalue": "name 'L_layer_model_test' is not defined",
     "output_type": "error",
     "traceback": [
      "\u001b[0;31m---------------------------------------------------------------------------\u001b[0m",
      "\u001b[0;31mNameError\u001b[0m                                 Traceback (most recent call last)",
      "Cell \u001b[0;32mIn[25], line 5\u001b[0m\n\u001b[1;32m      1\u001b[0m parameters, costs \u001b[38;5;241m=\u001b[39m L_layer_model(train_x, train_y, layers_dims, num_iterations \u001b[38;5;241m=\u001b[39m \u001b[38;5;241m1\u001b[39m, print_cost \u001b[38;5;241m=\u001b[39m \u001b[38;5;28;01mFalse\u001b[39;00m)\n\u001b[1;32m      3\u001b[0m \u001b[38;5;28mprint\u001b[39m(\u001b[38;5;124m\"\u001b[39m\u001b[38;5;124mCost after first iteration: \u001b[39m\u001b[38;5;124m\"\u001b[39m \u001b[38;5;241m+\u001b[39m \u001b[38;5;28mstr\u001b[39m(costs[\u001b[38;5;241m0\u001b[39m]))\n\u001b[0;32m----> 5\u001b[0m \u001b[43mL_layer_model_test\u001b[49m(L_layer_model)\n",
      "\u001b[0;31mNameError\u001b[0m: name 'L_layer_model_test' is not defined"
     ]
    }
   ],
   "source": [
    "parameters, costs = L_layer_model(train_x, train_y, layers_dims, num_iterations = 1, print_cost = False)\n",
    "\n",
    "print(\"Cost after first iteration: \" + str(costs[0]))\n",
    "\n",
    "L_layer_model_test(L_layer_model)"
   ]
  },
  {
   "cell_type": "code",
   "execution_count": 30,
   "id": "27756c91",
   "metadata": {},
   "outputs": [
    {
     "name": "stdout",
     "output_type": "stream",
     "text": [
      "cost after 0 iterations = 0.6950464961800915\n",
      "cost after 100 iterations = 0.5892596054583805\n",
      "cost after 200 iterations = 0.5232609173622991\n",
      "cost after 300 iterations = 0.4497686396221906\n",
      "cost after 400 iterations = 0.42090021618838985\n",
      "cost after 500 iterations = 0.37246403061745953\n",
      "cost after 600 iterations = 0.34742051870201907\n",
      "cost after 700 iterations = 0.31719191987370265\n",
      "cost after 800 iterations = 0.2664377434774658\n",
      "cost after 900 iterations = 0.21991432807842565\n",
      "cost after 1000 iterations = 0.14357898893623777\n",
      "cost after 1100 iterations = 0.45309212623221157\n",
      "cost after 1200 iterations = 0.09499357670093511\n",
      "cost after 1300 iterations = 0.08014128076781371\n",
      "cost after 1400 iterations = 0.06940234005536465\n",
      "cost after 1500 iterations = 0.060216640231745944\n",
      "cost after 1600 iterations = 0.053274157580018806\n",
      "cost after 1700 iterations = 0.047629032620984335\n",
      "cost after 1800 iterations = 0.0429758887943687\n",
      "cost after 1900 iterations = 0.039036074365138215\n",
      "cost after 2000 iterations = 0.03568313638049028\n",
      "cost after 2100 iterations = 0.032915263730546776\n",
      "cost after 2200 iterations = 0.030472193059120623\n",
      "cost after 2300 iterations = 0.028387859212946117\n",
      "cost after 2400 iterations = 0.026615212372776073\n"
     ]
    }
   ],
   "source": [
    "parameters, costs = L_layer_model(train_x, train_y, layers_dims, num_iterations = 2500, print_cost = True)"
   ]
  },
  {
   "cell_type": "code",
   "execution_count": 31,
   "id": "faf8d91a",
   "metadata": {},
   "outputs": [
    {
     "name": "stdout",
     "output_type": "stream",
     "text": [
      "Accuracy: 0.9999999999999998\n"
     ]
    }
   ],
   "source": [
    "pred_train = predict(train_x, train_y, parameters)"
   ]
  },
  {
   "cell_type": "code",
   "execution_count": 32,
   "id": "c226a5f6",
   "metadata": {},
   "outputs": [
    {
     "name": "stdout",
     "output_type": "stream",
     "text": [
      "Accuracy: 0.74\n"
     ]
    }
   ],
   "source": [
    "pred_test = predict(test_x, test_y, parameters)"
   ]
  },
  {
   "cell_type": "code",
   "execution_count": null,
   "id": "05af3b55",
   "metadata": {},
   "outputs": [],
   "source": []
  }
 ],
 "metadata": {
  "kernelspec": {
   "display_name": "Python 3 (ipykernel)",
   "language": "python",
   "name": "python3"
  },
  "language_info": {
   "codemirror_mode": {
    "name": "ipython",
    "version": 3
   },
   "file_extension": ".py",
   "mimetype": "text/x-python",
   "name": "python",
   "nbconvert_exporter": "python",
   "pygments_lexer": "ipython3",
   "version": "3.10.8"
  }
 },
 "nbformat": 4,
 "nbformat_minor": 5
}
