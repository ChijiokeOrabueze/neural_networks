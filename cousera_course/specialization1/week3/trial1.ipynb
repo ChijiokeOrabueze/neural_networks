{
 "cells": [
  {
   "cell_type": "code",
   "execution_count": 2,
   "id": "41720035",
   "metadata": {},
   "outputs": [],
   "source": [
    "import numpy as np\n",
    "import matplotlib.pyplot as plt\n",
    "import h5py\n",
    "import sys\n",
    "sys.path.append(\"../week2\")\n",
    "from lr_utils import load_dataset\n"
   ]
  },
  {
   "cell_type": "code",
   "execution_count": 3,
   "id": "3393af9a",
   "metadata": {},
   "outputs": [],
   "source": [
    "# train_set_x_orig, train_set_y, test_set_x_orig, test_set_y, classes = load_dataset()\n",
    "\n",
    "train_dataset = h5py.File(\"../week2/train_catvnoncat.h5\")\n",
    "train_set_x_orig = np.array(train_dataset[\"train_set_x\"][:])\n",
    "train_set_y = np.array(train_dataset[\"train_set_y\"][:])\n"
   ]
  },
  {
   "cell_type": "code",
   "execution_count": 4,
   "id": "34659690",
   "metadata": {},
   "outputs": [],
   "source": [
    "test_dataset = h5py.File(\"../week2/test_catvnoncat.h5\")\n",
    "test_set_x_orig = np.array(test_dataset[\"test_set_x\"])\n",
    "test_set_y = np.array(test_dataset[\"test_set_y\"])"
   ]
  },
  {
   "cell_type": "code",
   "execution_count": 5,
   "id": "a2806573",
   "metadata": {},
   "outputs": [
    {
     "data": {
      "text/plain": [
       "<matplotlib.image.AxesImage at 0x7f572e7d2e00>"
      ]
     },
     "execution_count": 5,
     "metadata": {},
     "output_type": "execute_result"
    },
    {
     "data": {
      "image/png": "[encoded data removed]",
      "text/plain": [
       "<Figure size 640x480 with 1 Axes>"
      ]
     },
     "metadata": {},
     "output_type": "display_data"
    }
   ],
   "source": [
    "plt.imshow(train_set_x_orig[50])"
   ]
  },
  {
   "cell_type": "code",
   "execution_count": 6,
   "id": "a298624e",
   "metadata": {},
   "outputs": [
    {
     "data": {
      "text/plain": [
       "(209, 64, 64, 3)"
      ]
     },
     "execution_count": 6,
     "metadata": {},
     "output_type": "execute_result"
    }
   ],
   "source": [
    "train_set_x_orig.shape"
   ]
  },
  {
   "cell_type": "code",
   "execution_count": 7,
   "id": "8a9e71bf",
   "metadata": {},
   "outputs": [
    {
     "name": "stdout",
     "output_type": "stream",
     "text": [
      "(12288, 209)\n",
      "(12288, 50)\n"
     ]
    }
   ],
   "source": [
    "#flatten\n",
    "\n",
    "train_set_x_flatten = train_set_x_orig.reshape(train_set_x_orig.shape[0],-1).T\n",
    "test_set_x_flatten = test_set_x_orig.reshape(test_set_x_orig.shape[0], -1).T\n",
    "print(train_set_x_flatten.shape)\n",
    "print(test_set_x_flatten.shape)"
   ]
  },
  {
   "cell_type": "code",
   "execution_count": 8,
   "id": "2624f711",
   "metadata": {},
   "outputs": [
    {
     "name": "stdout",
     "output_type": "stream",
     "text": [
      "[[0.06666667 0.76862745 0.32156863 ... 0.56078431 0.08627451 0.03137255]\n",
      " [0.12156863 0.75294118 0.27843137 ... 0.60784314 0.09411765 0.10980392]\n",
      " [0.21960784 0.74509804 0.26666667 ... 0.64705882 0.09019608 0.20784314]\n",
      " ...\n",
      " [0.         0.32156863 0.54117647 ... 0.33333333 0.01568627 0.        ]\n",
      " [0.         0.31372549 0.55294118 ... 0.41960784 0.01960784 0.        ]\n",
      " [0.         0.31764706 0.55686275 ... 0.58431373 0.         0.        ]]\n"
     ]
    }
   ],
   "source": [
    "#normalize\n",
    "\n",
    "train_set_x_norm = train_set_x_flatten/255\n",
    "test_set_x_norm = test_set_x_flatten/255\n",
    "print(train_set_x_norm\n",
    "     )"
   ]
  },
  {
   "cell_type": "code",
   "execution_count": 9,
   "id": "f990b4dd",
   "metadata": {},
   "outputs": [],
   "source": [
    "def init_params (X, hidden_layers):\n",
    "    nx = X.shape[0]\n",
    "    L = len(hidden_layers)\n",
    "    \n",
    "    params = {}\n",
    "    for i in range(L):\n",
    "        params[f'w{i+1}']= np.random.randn(hidden_layers[i], nx) * 0.01\n",
    "        params[f'b{i+1}'] = np.zeros((hidden_layers[i],1))\n",
    "        nx = hidden_layers[i]\n",
    "    \n",
    "    return params\n",
    "    \n",
    "    "
   ]
  },
  {
   "cell_type": "code",
   "execution_count": 10,
   "id": "a008414e",
   "metadata": {},
   "outputs": [],
   "source": [
    "h = init_params(train_set_x_norm, [3,4,5,1])"
   ]
  },
  {
   "cell_type": "code",
   "execution_count": 11,
   "id": "de390975",
   "metadata": {},
   "outputs": [
    {
     "data": {
      "text/plain": [
       "8"
      ]
     },
     "execution_count": 11,
     "metadata": {},
     "output_type": "execute_result"
    }
   ],
   "source": [
    "len(h)"
   ]
  },
  {
   "cell_type": "code",
   "execution_count": 12,
   "id": "134055d1",
   "metadata": {},
   "outputs": [],
   "source": [
    "def sigmoid (z):\n",
    "    s = 1/(1+np.exp(-z))\n",
    "    return s"
   ]
  },
  {
   "cell_type": "code",
   "execution_count": 13,
   "id": "4fcd9b41",
   "metadata": {},
   "outputs": [],
   "source": [
    "h=np.array([[-9,3,4,5]])"
   ]
  },
  {
   "cell_type": "code",
   "execution_count": 14,
   "id": "265032c6",
   "metadata": {},
   "outputs": [
    {
     "data": {
      "text/plain": [
       "(1, 4)"
      ]
     },
     "execution_count": 14,
     "metadata": {},
     "output_type": "execute_result"
    }
   ],
   "source": [
    "h.shape"
   ]
  },
  {
   "cell_type": "code",
   "execution_count": 15,
   "id": "9ebd67fa",
   "metadata": {},
   "outputs": [
    {
     "data": {
      "text/plain": [
       "array([[1.23394576e-04, 9.52574127e-01, 9.82013790e-01, 9.93307149e-01]])"
      ]
     },
     "execution_count": 15,
     "metadata": {},
     "output_type": "execute_result"
    }
   ],
   "source": [
    "sigmoid(h)"
   ]
  },
  {
   "cell_type": "code",
   "execution_count": 16,
   "id": "9b8183e0",
   "metadata": {},
   "outputs": [],
   "source": [
    "def relu (z):\n",
    "    a = np.maximum(0,z)\n",
    "    return a"
   ]
  },
  {
   "cell_type": "code",
   "execution_count": 17,
   "id": "268c0043",
   "metadata": {},
   "outputs": [
    {
     "data": {
      "text/plain": [
       "array([[0, 3, 4, 5]])"
      ]
     },
     "execution_count": 17,
     "metadata": {},
     "output_type": "execute_result"
    }
   ],
   "source": [
    "relu(h)"
   ]
  },
  {
   "cell_type": "code",
   "execution_count": 25,
   "id": "e424a29b",
   "metadata": {},
   "outputs": [],
   "source": [
    "def forward_propagation (params, X, Y):\n",
    "    L = int(len(params)/2)\n",
    "    print(L)\n",
    "    m = X.shape[1]\n",
    "    \n",
    "    A_prev = X\n",
    "    cache = {}\n",
    "    for i in range(L-1):\n",
    "        Z = np.dot(params[f'w{i+1}'],A_prev) + params[f'b{i+1}']\n",
    "        A_curr = relu(Z)\n",
    "        cache[f'Z{i+1}'] = Z\n",
    "        cache[f'A{i+1}'] = A_curr\n",
    "        A_prev = A_curr\n",
    "        \n",
    "    Z_final = np.dot(params[f'w{L}'],A_prev) + params[f'b{L}']\n",
    "    A = sigmoid(Z_final)\n",
    "    cache[f'Z{L}'] = Z_final\n",
    "    cache[f'A{L}'] = A\n",
    "    \n",
    "    cost = (-1/m)*np.sum(Y*np.log(A) + (1-Y)*np.log(1-A))\n",
    "    cost = np.squeeze(cost)\n",
    "    \n",
    "    return A, cost, params, cache\n",
    "    "
   ]
  },
  {
   "cell_type": "code",
   "execution_count": 26,
   "id": "ca1e2f6e",
   "metadata": {},
   "outputs": [
    {
     "name": "stdout",
     "output_type": "stream",
     "text": [
      "4\n"
     ]
    }
   ],
   "source": [
    "a, cost, params, cache = forward_propagation(init_params(train_set_x_norm, [3,4,5,1]), train_set_x_norm, train_set_y)"
   ]
  },
  {
   "cell_type": "code",
   "execution_count": 28,
   "id": "3f6d645e",
   "metadata": {},
   "outputs": [
    {
     "ename": "SyntaxError",
     "evalue": "incomplete input (3647185667.py, line 2)",
     "output_type": "error",
     "traceback": [
      "\u001b[0;36m  Cell \u001b[0;32mIn[28], line 2\u001b[0;36m\u001b[0m\n\u001b[0;31m    \u001b[0m\n\u001b[0m    ^\u001b[0m\n\u001b[0;31mSyntaxError\u001b[0m\u001b[0;31m:\u001b[0m incomplete input\n"
     ]
    }
   ],
   "source": [
    "def relu_prime (Z):\n",
    "    "
   ]
  },
  {
   "cell_type": "code",
   "execution_count": 34,
   "id": "9535fd5e",
   "metadata": {},
   "outputs": [],
   "source": [
    "h = np.array([[0,2,3]])"
   ]
  },
  {
   "cell_type": "code",
   "execution_count": 35,
   "id": "d264e2bf",
   "metadata": {},
   "outputs": [
    {
     "data": {
      "text/plain": [
       "array([[1, 1, 1]])"
      ]
     },
     "execution_count": 35,
     "metadata": {},
     "output_type": "execute_result"
    }
   ],
   "source": [
    "(h >= 0).astype(int)"
   ]
  },
  {
   "cell_type": "code",
   "execution_count": 37,
   "id": "9c9507bf",
   "metadata": {},
   "outputs": [],
   "source": [
    "def backward_propagation (A, Y, params, cache):\n",
    "    \n",
    "    L = int(len(params)/2)\n",
    "    \n",
    "    m = X.shape[1]\n",
    "    \n",
    "    \n",
    "    grads = {}\n",
    "    dZ_last = A - Y\n",
    "    grads[f'dw{L}'] = (1/m)*np.dot(dZ_last, cache[f'A{L-1}'].T)\n",
    "    grads[f'db{L}'] = (1/m)*np.sum(dZ_last, keepdims=true, axis=1)\n",
    "    dZ = dZ_last\n",
    "    for i in reversed(range(2,L)):\n",
    "        dZ = np.multipy((np.dot(params[f'w{i+1}'].T, dZ)), (cache[f'Z{i}'] >= 0).astype(int))\n",
    "        grads[f'dw{i}'] = (1/m)*np.dot(dZ,cache[f'A{i-1}'].T)\n",
    "        grads[f'db{i}'] = (1/m)*np.sum(dZ, keepdims=true, axis=1)\n",
    "    \n",
    "    dZ = np.multipy((np.dot(params[f'w2'].T, dZ)), (cache[f'Z1'] >= 0).astype(int))\n",
    "    grads[f'dw1'] = (1/m)*np.dot(dZ,X.T)\n",
    "    grads[f'db1'] = (1/m)*np.sum(dZ, keepdims=true, axis=1) \n",
    "    \n",
    "    \n",
    "    return grads\n",
    "    \n",
    "    "
   ]
  },
  {
   "cell_type": "code",
   "execution_count": 36,
   "id": "402e65d9",
   "metadata": {},
   "outputs": [
    {
     "name": "stdout",
     "output_type": "stream",
     "text": [
      "1\n",
      "2\n",
      "3\n",
      "4\n",
      "5\n",
      "6\n",
      "7\n"
     ]
    }
   ],
   "source": [
    "for i in range(1,8):\n",
    "    print(i)"
   ]
  },
  {
   "cell_type": "code",
   "execution_count": 81,
   "id": "fa644e79",
   "metadata": {},
   "outputs": [
    {
     "name": "stdout",
     "output_type": "stream",
     "text": [
      "None\n"
     ]
    }
   ],
   "source": []
  },
  {
   "cell_type": "code",
   "execution_count": 84,
   "id": "c7f75b4a",
   "metadata": {},
   "outputs": [
    {
     "name": "stdout",
     "output_type": "stream",
     "text": [
      "6\n",
      "5\n",
      "4\n",
      "3\n",
      "2\n",
      "1\n",
      "0\n"
     ]
    }
   ],
   "source": [
    "for i in reversed(range(7)):\n",
    "    print(i)"
   ]
  },
  {
   "cell_type": "code",
   "execution_count": null,
   "id": "22654e8d",
   "metadata": {},
   "outputs": [],
   "source": []
  }
 ],
 "metadata": {
  "kernelspec": {
   "display_name": "Python 3 (ipykernel)",
   "language": "python",
   "name": "python3"
  },
  "language_info": {
   "codemirror_mode": {
    "name": "ipython",
    "version": 3
   },
   "file_extension": ".py",
   "mimetype": "text/x-python",
   "name": "python",
   "nbconvert_exporter": "python",
   "pygments_lexer": "ipython3",
   "version": "3.10.8"
  }
 },
 "nbformat": 4,
 "nbformat_minor": 5
}
